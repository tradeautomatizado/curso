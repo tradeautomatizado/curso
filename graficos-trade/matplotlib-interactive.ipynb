{
 "cells": [
  {
   "cell_type": "code",
   "execution_count": null,
   "id": "extended-saturday",
   "metadata": {},
   "outputs": [],
   "source": [
    "!pip install ipympl"
   ]
  },
  {
   "cell_type": "code",
   "execution_count": 17,
   "id": "grave-reporter",
   "metadata": {},
   "outputs": [
    {
     "name": "stdout",
     "output_type": "stream",
     "text": []
    },
    {
     "name": "stdout",
     "output_type": "stream",
     "text": []
    },
    {
     "name": "stdout",
     "output_type": "stream",
     "text": []
    },
    {
     "name": "stdout",
     "output_type": "stream",
     "text": []
    },
    {
     "name": "stdout",
     "output_type": "stream",
     "text": [
      "Building jupyterlab assets (build:prod:minimize)\n"
     ]
    }
   ],
   "source": [
    "!jupyter labextension install @jupyter-widgets/jupyterlab-manager jupyter-matplotlib"
   ]
  },
  {
   "cell_type": "code",
   "execution_count": 1,
   "id": "operating-facing",
   "metadata": {},
   "outputs": [],
   "source": [
    "import pandas as pd"
   ]
  },
  {
   "cell_type": "code",
   "execution_count": 2,
   "id": "according-primary",
   "metadata": {},
   "outputs": [],
   "source": [
    "df = pd.read_csv(\"./stocks/daily/VALE3.csv\")"
   ]
  },
  {
   "cell_type": "code",
   "execution_count": 3,
   "id": "quarterly-automation",
   "metadata": {},
   "outputs": [
    {
     "data": {
      "text/html": [
       "<div>\n",
       "<style scoped>\n",
       "    .dataframe tbody tr th:only-of-type {\n",
       "        vertical-align: middle;\n",
       "    }\n",
       "\n",
       "    .dataframe tbody tr th {\n",
       "        vertical-align: top;\n",
       "    }\n",
       "\n",
       "    .dataframe thead th {\n",
       "        text-align: right;\n",
       "    }\n",
       "</style>\n",
       "<table border=\"1\" class=\"dataframe\">\n",
       "  <thead>\n",
       "    <tr style=\"text-align: right;\">\n",
       "      <th></th>\n",
       "      <th>date</th>\n",
       "      <th>open</th>\n",
       "      <th>high</th>\n",
       "      <th>low</th>\n",
       "      <th>close</th>\n",
       "      <th>volume</th>\n",
       "      <th>dividend</th>\n",
       "      <th>split</th>\n",
       "    </tr>\n",
       "  </thead>\n",
       "  <tbody>\n",
       "    <tr>\n",
       "      <th>0</th>\n",
       "      <td>2010-11-25</td>\n",
       "      <td>36.77</td>\n",
       "      <td>37.00</td>\n",
       "      <td>36.58</td>\n",
       "      <td>36.58</td>\n",
       "      <td>858</td>\n",
       "      <td>0</td>\n",
       "      <td>1</td>\n",
       "    </tr>\n",
       "    <tr>\n",
       "      <th>1</th>\n",
       "      <td>2010-11-26</td>\n",
       "      <td>36.30</td>\n",
       "      <td>36.45</td>\n",
       "      <td>36.00</td>\n",
       "      <td>36.03</td>\n",
       "      <td>2189</td>\n",
       "      <td>0</td>\n",
       "      <td>1</td>\n",
       "    </tr>\n",
       "    <tr>\n",
       "      <th>2</th>\n",
       "      <td>2010-11-29</td>\n",
       "      <td>35.93</td>\n",
       "      <td>36.30</td>\n",
       "      <td>35.61</td>\n",
       "      <td>36.11</td>\n",
       "      <td>3583</td>\n",
       "      <td>0</td>\n",
       "      <td>1</td>\n",
       "    </tr>\n",
       "    <tr>\n",
       "      <th>3</th>\n",
       "      <td>2010-11-30</td>\n",
       "      <td>36.03</td>\n",
       "      <td>36.37</td>\n",
       "      <td>35.65</td>\n",
       "      <td>35.67</td>\n",
       "      <td>4513</td>\n",
       "      <td>0</td>\n",
       "      <td>1</td>\n",
       "    </tr>\n",
       "    <tr>\n",
       "      <th>4</th>\n",
       "      <td>2010-12-01</td>\n",
       "      <td>36.32</td>\n",
       "      <td>36.97</td>\n",
       "      <td>36.21</td>\n",
       "      <td>36.83</td>\n",
       "      <td>2625</td>\n",
       "      <td>0</td>\n",
       "      <td>1</td>\n",
       "    </tr>\n",
       "    <tr>\n",
       "      <th>...</th>\n",
       "      <td>...</td>\n",
       "      <td>...</td>\n",
       "      <td>...</td>\n",
       "      <td>...</td>\n",
       "      <td>...</td>\n",
       "      <td>...</td>\n",
       "      <td>...</td>\n",
       "      <td>...</td>\n",
       "    </tr>\n",
       "    <tr>\n",
       "      <th>2493</th>\n",
       "      <td>2020-12-22</td>\n",
       "      <td>86.86</td>\n",
       "      <td>86.99</td>\n",
       "      <td>85.43</td>\n",
       "      <td>86.94</td>\n",
       "      <td>23157</td>\n",
       "      <td>0</td>\n",
       "      <td>1</td>\n",
       "    </tr>\n",
       "    <tr>\n",
       "      <th>2494</th>\n",
       "      <td>2020-12-23</td>\n",
       "      <td>86.53</td>\n",
       "      <td>87.53</td>\n",
       "      <td>86.40</td>\n",
       "      <td>87.36</td>\n",
       "      <td>17710</td>\n",
       "      <td>0</td>\n",
       "      <td>1</td>\n",
       "    </tr>\n",
       "    <tr>\n",
       "      <th>2495</th>\n",
       "      <td>2020-12-28</td>\n",
       "      <td>87.79</td>\n",
       "      <td>88.58</td>\n",
       "      <td>87.08</td>\n",
       "      <td>87.31</td>\n",
       "      <td>26001</td>\n",
       "      <td>0</td>\n",
       "      <td>1</td>\n",
       "    </tr>\n",
       "    <tr>\n",
       "      <th>2496</th>\n",
       "      <td>2020-12-29</td>\n",
       "      <td>87.97</td>\n",
       "      <td>88.20</td>\n",
       "      <td>86.51</td>\n",
       "      <td>87.07</td>\n",
       "      <td>19727</td>\n",
       "      <td>0</td>\n",
       "      <td>1</td>\n",
       "    </tr>\n",
       "    <tr>\n",
       "      <th>2497</th>\n",
       "      <td>2020-12-30</td>\n",
       "      <td>87.19</td>\n",
       "      <td>87.59</td>\n",
       "      <td>86.65</td>\n",
       "      <td>87.45</td>\n",
       "      <td>30102</td>\n",
       "      <td>0</td>\n",
       "      <td>1</td>\n",
       "    </tr>\n",
       "  </tbody>\n",
       "</table>\n",
       "<p>2498 rows × 8 columns</p>\n",
       "</div>"
      ],
      "text/plain": [
       "            date   open   high    low  close  volume  dividend  split\n",
       "0     2010-11-25  36.77  37.00  36.58  36.58     858         0      1\n",
       "1     2010-11-26  36.30  36.45  36.00  36.03    2189         0      1\n",
       "2     2010-11-29  35.93  36.30  35.61  36.11    3583         0      1\n",
       "3     2010-11-30  36.03  36.37  35.65  35.67    4513         0      1\n",
       "4     2010-12-01  36.32  36.97  36.21  36.83    2625         0      1\n",
       "...          ...    ...    ...    ...    ...     ...       ...    ...\n",
       "2493  2020-12-22  86.86  86.99  85.43  86.94   23157         0      1\n",
       "2494  2020-12-23  86.53  87.53  86.40  87.36   17710         0      1\n",
       "2495  2020-12-28  87.79  88.58  87.08  87.31   26001         0      1\n",
       "2496  2020-12-29  87.97  88.20  86.51  87.07   19727         0      1\n",
       "2497  2020-12-30  87.19  87.59  86.65  87.45   30102         0      1\n",
       "\n",
       "[2498 rows x 8 columns]"
      ]
     },
     "metadata": {},
     "output_type": "display_data"
    }
   ],
   "source": [
    "display(df)"
   ]
  },
  {
   "cell_type": "code",
   "execution_count": 4,
   "id": "regulated-stability",
   "metadata": {},
   "outputs": [
    {
     "name": "stdout",
     "output_type": "stream",
     "text": [
      "<class 'pandas.core.frame.DataFrame'>\n",
      "RangeIndex: 2498 entries, 0 to 2497\n",
      "Data columns (total 8 columns):\n",
      " #   Column    Non-Null Count  Dtype  \n",
      "---  ------    --------------  -----  \n",
      " 0   date      2498 non-null   object \n",
      " 1   open      2498 non-null   float64\n",
      " 2   high      2498 non-null   float64\n",
      " 3   low       2498 non-null   float64\n",
      " 4   close     2498 non-null   float64\n",
      " 5   volume    2498 non-null   int64  \n",
      " 6   dividend  2498 non-null   int64  \n",
      " 7   split     2498 non-null   int64  \n",
      "dtypes: float64(4), int64(3), object(1)\n",
      "memory usage: 156.2+ KB\n"
     ]
    }
   ],
   "source": [
    "df.info()"
   ]
  },
  {
   "cell_type": "code",
   "execution_count": 5,
   "id": "consolidated-gentleman",
   "metadata": {},
   "outputs": [],
   "source": [
    "df.date = pd.to_datetime(df.date, format='%Y-%m-%d')"
   ]
  },
  {
   "cell_type": "code",
   "execution_count": 6,
   "id": "adapted-pierce",
   "metadata": {},
   "outputs": [
    {
     "name": "stdout",
     "output_type": "stream",
     "text": [
      "<class 'pandas.core.frame.DataFrame'>\n",
      "RangeIndex: 2498 entries, 0 to 2497\n",
      "Data columns (total 8 columns):\n",
      " #   Column    Non-Null Count  Dtype         \n",
      "---  ------    --------------  -----         \n",
      " 0   date      2498 non-null   datetime64[ns]\n",
      " 1   open      2498 non-null   float64       \n",
      " 2   high      2498 non-null   float64       \n",
      " 3   low       2498 non-null   float64       \n",
      " 4   close     2498 non-null   float64       \n",
      " 5   volume    2498 non-null   int64         \n",
      " 6   dividend  2498 non-null   int64         \n",
      " 7   split     2498 non-null   int64         \n",
      "dtypes: datetime64[ns](1), float64(4), int64(3)\n",
      "memory usage: 156.2 KB\n"
     ]
    }
   ],
   "source": [
    "df.info()"
   ]
  },
  {
   "cell_type": "code",
   "execution_count": 7,
   "id": "fresh-japan",
   "metadata": {},
   "outputs": [],
   "source": [
    "%matplotlib widget\n",
    "import matplotlib.pyplot as plt\n",
    "import matplotlib.dates as mdates\n",
    "from matplotlib.dates import DAILY"
   ]
  },
  {
   "cell_type": "code",
   "execution_count": 9,
   "id": "moral-intelligence",
   "metadata": {},
   "outputs": [
    {
     "data": {
      "application/vnd.jupyter.widget-view+json": {
       "model_id": "fbead8ec6639404c936992fd9c0823eb",
       "version_major": 2,
       "version_minor": 0
      },
      "text/plain": [
       "Canvas(toolbar=Toolbar(toolitems=[('Home', 'Reset original view', 'home', 'home'), ('Back', 'Back to previous …"
      ]
     },
     "metadata": {},
     "output_type": "display_data"
    },
    {
     "data": {
      "text/plain": [
       "Text(0.5, 1.0, 'Preço de fechamento de PETR4')"
      ]
     },
     "execution_count": 9,
     "metadata": {},
     "output_type": "execute_result"
    }
   ],
   "source": [
    "\n",
    "fig, ax = plt.subplots()\n",
    "fig.canvas.capture_scroll = True\n",
    "fig.canvas.toolbar_visible = True\n",
    "\n",
    "ax.plot(df.date, df.close)\n",
    "\n",
    "ax.grid(True)\n",
    "\n",
    "\n",
    "ax.set_title('Preço de fechamento de PETR4')"
   ]
  },
  {
   "cell_type": "code",
   "execution_count": null,
   "id": "narrative-indie",
   "metadata": {},
   "outputs": [],
   "source": []
  }
 ],
 "metadata": {
  "kernelspec": {
   "display_name": "Python 3",
   "language": "python",
   "name": "python3"
  },
  "language_info": {
   "codemirror_mode": {
    "name": "ipython",
    "version": 3
   },
   "file_extension": ".py",
   "mimetype": "text/x-python",
   "name": "python",
   "nbconvert_exporter": "python",
   "pygments_lexer": "ipython3",
   "version": "3.8.5"
  }
 },
 "nbformat": 4,
 "nbformat_minor": 5
}
